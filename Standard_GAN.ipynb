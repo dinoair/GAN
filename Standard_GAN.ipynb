{
  "nbformat": 4,
  "nbformat_minor": 0,
  "metadata": {
    "colab": {
      "name": "Standard_GAN",
      "provenance": [],
      "toc_visible": true,
      "authorship_tag": "ABX9TyNzvAbtgWmw0oSYUypq1keQ",
      "include_colab_link": true
    },
    "kernelspec": {
      "name": "python3",
      "display_name": "Python 3"
    }
  },
  "cells": [
    {
      "cell_type": "markdown",
      "metadata": {
        "id": "view-in-github",
        "colab_type": "text"
      },
      "source": [
        "<a href=\"https://colab.research.google.com/github/dinoair/GAN/blob/master/Standard_GAN.ipynb\" target=\"_parent\"><img src=\"https://colab.research.google.com/assets/colab-badge.svg\" alt=\"Open In Colab\"/></a>"
      ]
    },
    {
      "cell_type": "code",
      "metadata": {
        "id": "Cj-gAb2dBqTo",
        "colab_type": "code",
        "outputId": "59273078-02fd-4577-cec6-1e2daece1b6f",
        "colab": {
          "base_uri": "https://localhost:8080/",
          "height": 49
        }
      },
      "source": [
        "%tensorflow_version 1.x\n",
        "import numpy as np\n",
        "import matplotlib.pyplot as plt\n",
        "plt.rcParams['figure.figsize'] = (12, 9)\n",
        "import tensorflow as tf\n",
        "print(tf.__version__)\n",
        "RANGE = 5\n",
        "import random\n",
        "random.seed(42)"
      ],
      "execution_count": 1,
      "outputs": [
        {
          "output_type": "stream",
          "text": [
            "TensorFlow 1.x selected.\n",
            "1.15.2\n"
          ],
          "name": "stdout"
        }
      ]
    },
    {
      "cell_type": "code",
      "metadata": {
        "id": "Q-lJN3YrB1DN",
        "colab_type": "code",
        "colab": {}
      },
      "source": [
        "# p_d(x)\n",
        "class DataDistribution(object):\n",
        "    def __init__(self, mu, sigma):\n",
        "        self.mu = mu\n",
        "        self.sigma = sigma\n",
        "\n",
        "    def sample(self, N):\n",
        "        samples = np.random.normal(self.mu, self.sigma, N)\n",
        "        samples.sort()\n",
        "        return samples\n",
        "\n",
        "\n",
        "# p_z(z)\n",
        "class NoiseDistribution(object):\n",
        "    def __init__(self, range):\n",
        "        self.range = range\n",
        "\n",
        "    # equally spaced samples + noise\n",
        "    def sample(self, N):\n",
        "        offset = np.random.random(N) * (float(self.range) / N)\n",
        "        samples = np.linspace(-self.range, self.range, N) + offset\n",
        "        return samples\n",
        "\n",
        "\n",
        "# G(z)\n",
        "def generator(x, n_hidden=32):\n",
        "\n",
        "    # initializers\n",
        "    w_init = tf.truncated_normal_initializer(stddev=2)\n",
        "    b_init = tf.constant_initializer(0.)\n",
        "\n",
        "    # 1st hidden layer\n",
        "    w0 = tf.get_variable('w0', [x.get_shape()[1], n_hidden], initializer=w_init)\n",
        "    b0 = tf.get_variable('b0', [n_hidden], initializer=b_init)\n",
        "    h0 = tf.nn.relu(tf.matmul(x, w0) + b0)\n",
        "\n",
        "    # output layer\n",
        "    w1 = tf.get_variable('w1', [h0.get_shape()[1], 1], initializer=w_init)\n",
        "    b1 = tf.get_variable('b1', [1], initializer=b_init)\n",
        "    o = tf.matmul(h0, w1) + b1\n",
        "\n",
        "    return o\n",
        "\n",
        "\n",
        "# D(x)\n",
        "def discriminator(x, n_hidden=32):\n",
        "\n",
        "    # initializers\n",
        "    w_init = tf.contrib.layers.variance_scaling_initializer()\n",
        "    b_init = tf.constant_initializer(0.)\n",
        "\n",
        "    # 1st hidden layer\n",
        "    w0 = tf.get_variable('w0', [x.get_shape()[1], n_hidden], initializer=w_init)\n",
        "    b0 = tf.get_variable('b0', [n_hidden], initializer=b_init)\n",
        "    h0 = tf.nn.relu(tf.matmul(x, w0) + b0)\n",
        "\n",
        "    # output layer\n",
        "    w1 = tf.get_variable('w1', [h0.get_shape()[1], 1], initializer=w_init)\n",
        "    b1 = tf.get_variable('b1', [1], initializer=b_init)\n",
        "    o = tf.sigmoid(tf.matmul(h0, w1) + b1)\n",
        "\n",
        "    return o"
      ],
      "execution_count": 0,
      "outputs": []
    },
    {
      "cell_type": "code",
      "metadata": {
        "id": "jtsS5E1XB9Hh",
        "colab_type": "code",
        "colab": {}
      },
      "source": [
        "# re-used for optimizing all networks\n",
        "def optimizer(loss, var_list, num_decay_steps=400, initial_learning_rate=1e-4):\n",
        "    decay = 0.95\n",
        "    batch = tf.Variable(0)\n",
        "    learning_rate = tf.train.exponential_decay(\n",
        "        initial_learning_rate,\n",
        "        batch,\n",
        "        num_decay_steps,\n",
        "        decay,\n",
        "        staircase=True\n",
        "    )\n",
        "    optimizer = tf.train.GradientDescentOptimizer(learning_rate).minimize(\n",
        "        loss,\n",
        "        global_step=batch,\n",
        "        var_list=var_list\n",
        "    )\n",
        "    return optimizer"
      ],
      "execution_count": 0,
      "outputs": []
    },
    {
      "cell_type": "code",
      "metadata": {
        "id": "zxDZyPwZBF2k",
        "colab_type": "code",
        "colab": {}
      },
      "source": [
        "class ResultPlot(object):\n",
        "    def __init__(self, num_points, num_bins, mu, sigma):\n",
        "        self.num_points = num_points    # number of data points to be evaluated\n",
        "        self.num_bins = num_bins        # number of bins to get histogram\n",
        "\n",
        "        self.mu = mu                    # mu of p_data\n",
        "        self.sigma = sigma              # sigma of p_data\n",
        "\n",
        "        self.xs = np.linspace(-RANGE, RANGE, num_points)    # positions of data\n",
        "        self.bins = np.linspace(-RANGE, RANGE, num_bins)    # positions of bins\n",
        "\n",
        "    def show_results(self, db_init, db_trained, pd, pg, save_img=True):\n",
        "        db_x = np.linspace(-RANGE, RANGE, len(db_trained))\n",
        "        p_x = np.linspace(-RANGE, RANGE, len(pd))\n",
        "        f, ax = plt.subplots(1)\n",
        "        ax.plot(db_x, db_init, 'g--', linewidth=2, label='db_init')\n",
        "        ax.plot(db_x, db_trained, 'g-', linewidth=2, label='db_trained')\n",
        "        ax.set_ylim(0, max(1, np.max(pd) * 1.1))\n",
        "        ax.set_xlim(-4, 4)\n",
        "        plt.plot(p_x, pd, 'b-', linewidth=2, label='real data')\n",
        "        plt.plot(p_x, pg, 'r-', linewidth=2, label='generated data')\n",
        "        # plt.title('1D Generative Adversarial Network: ' + '(mu : %3g,' % self.mu + ' sigma : %3g)' % self.sigma)\n",
        "        plt.title ('Probability density', fontsize = 17)\n",
        "        plt.xlabel('x', fontsize = 15)\n",
        "        plt.ylabel('p(x)', fontsize = 15)\n",
        "        #\n",
        "        plt.xticks(fontsize = 15)\n",
        "        _ = plt.yticks(fontsize = 15)\n",
        "        #\n",
        "        plt.legend()\n",
        "        plt.grid(True)\n",
        "\n",
        "        if save_img:\n",
        "            plt.savefig('GAN_1d_gaussian' + '_mu_%g' % self.mu + '_sigma_%g' % self.sigma + '.png')\n",
        "\n",
        "        plt.show()\n",
        "\n"
      ],
      "execution_count": 0,
      "outputs": []
    },
    {
      "cell_type": "code",
      "metadata": {
        "id": "g5G_NyPj2NQK",
        "colab_type": "code",
        "colab": {}
      },
      "source": [
        ""
      ],
      "execution_count": 0,
      "outputs": []
    },
    {
      "cell_type": "code",
      "metadata": {
        "id": "nmpidIkNCFLE",
        "colab_type": "code",
        "outputId": "a6559325-61c5-4255-827f-fe72c081934e",
        "colab": {
          "base_uri": "https://localhost:8080/",
          "height": 571
        }
      },
      "source": [
        "def main():\n",
        "    \"\"\" parameters \"\"\"\n",
        "    # p_data\n",
        "    mu = 1\n",
        "    sigma = 1e-3\n",
        "\n",
        "    # training\n",
        "    B = 32                 # batch-size\n",
        "    LR = 1e-4              # learning rate (generator uses half of this)\n",
        "    TRAIN_ITERS = 8000      # number of iterations\n",
        "\n",
        "    # network\n",
        "    n_hidden = 32           # number of hidden layers\n",
        "\n",
        "    \"\"\" build graph \"\"\"\n",
        "\n",
        "\n",
        "    # networks : generator\n",
        "    with tf.variable_scope('Gen'):\n",
        "        z = tf.placeholder(tf.float32, shape=(None, 1))\n",
        "        G_z = generator(z, n_hidden)\n",
        "\n",
        "    # networks : discriminator\n",
        "    with tf.variable_scope('Disc') as scope:\n",
        "        x = tf.placeholder(tf.float32, shape=(None, 1))\n",
        "        D_real = discriminator(x, n_hidden)\n",
        "        scope.reuse_variables()\n",
        "        D_fake = discriminator(G_z, n_hidden)\n",
        "\n",
        "    # loss for each network\n",
        "    eps = 1e-2  # to prevent log(0) case\n",
        "\n",
        "    loss_g = tf.reduce_mean(-tf.log(D_fake + eps))\n",
        "    loss_d = tf.reduce_mean(-tf.log(D_real + eps) - tf.log(1 - D_fake + eps))\n",
        "\n",
        "    # trainable variables for each network\n",
        "    d_params = tf.get_collection(tf.GraphKeys.TRAINABLE_VARIABLES, scope='Disc')\n",
        "    g_params = tf.get_collection(tf.GraphKeys.TRAINABLE_VARIABLES, scope='Gen')\n",
        "\n",
        "    # optimizer for each network\n",
        "    opt_d = optimizer(loss_d, d_params, 400, LR)\n",
        "    opt_g = optimizer(loss_g, g_params, 400, LR / 2)\n",
        "\n",
        "    \"\"\" training \"\"\"\n",
        "\n",
        "    # open session and initialize all variables\n",
        "    sess = tf.InteractiveSession()\n",
        "    tf.global_variables_initializer().run()\n",
        "\n",
        "    # sources\n",
        "    p_data = DataDistribution(mu, sigma)\n",
        "    p_z = NoiseDistribution(RANGE)\n",
        "\n",
        "    # class for result-plot\n",
        "    plot = ResultPlot(10000, 20, mu, sigma)\n",
        "\n",
        "    # plot : initial decision boundary\n",
        "    db_init = np.zeros((plot.num_points, 1))\n",
        "    for i in range(plot.num_points // B):\n",
        "        db_init[B * i:B * (i + 1)] = sess.run(D_real, {x: np.reshape(plot.xs[B * i:B * (i + 1)], (B, 1))})\n",
        "\n",
        "    # training-loop\n",
        "    for step in range(TRAIN_ITERS):\n",
        "\n",
        "        np.random.seed(np.random.randint(0, TRAIN_ITERS))\n",
        "\n",
        "        # update discriminator\n",
        "        x_ = p_data.sample(B)\n",
        "        z_ = p_z.sample(B)\n",
        "\n",
        "        loss_d_, _ = sess.run([loss_d, opt_d], {x: np.reshape(x_, (B, 1)), z: np.reshape(z_, (B, 1))})\n",
        "\n",
        "        # update generator\n",
        "        z_ = p_z.sample(B)\n",
        "        loss_g_, _ = sess.run([loss_g, opt_g], {z: np.reshape(z_, (B, 1))})\n",
        "\n",
        "        if step % 1000 == 0:\n",
        "            print('[%d/%d]: loss_d : %.3f, loss_g : %.3f' % (step, TRAIN_ITERS, loss_d_, loss_g_))\n",
        "\n",
        "    \"\"\" show results \"\"\"\n",
        "\n",
        "    # plot : trained decision boundary\n",
        "    db_trained = np.zeros((plot.num_points, 1))\n",
        "    for i in range(plot.num_points // B):\n",
        "        db_trained[B * i:B * (i + 1)] = sess.run(D_real, {x: np.reshape(plot.xs[B * i:B * (i + 1)], (B, 1))})\n",
        "\n",
        "    # plot : pdf of data distribution\n",
        "    d = p_data.sample(plot.num_points)\n",
        "    pd, _ = np.histogram(d, bins=plot.bins, density=True)\n",
        "\n",
        "    # plot : pdf of generated samples\n",
        "    zs = np.linspace(-RANGE, RANGE, plot.num_points)\n",
        "    g = np.zeros((plot.num_points, 1))\n",
        "    for i in range(plot.num_points // B):\n",
        "        g[B * i:B * (i + 1)] = sess.run(G_z, {z: np.reshape(zs[B * i:B * (i + 1)], (B, 1))})\n",
        "    pg, _ = np.histogram(g, bins=plot.bins, density=True)\n",
        "\n",
        "    # plot results\n",
        "    plot.show_results(db_init, db_trained, pd, pg, save_img=True)\n",
        "\n",
        "    sess.close()\n",
        "\n",
        "\n",
        "if __name__ == '__main__':\n",
        "    main()\n"
      ],
      "execution_count": 5,
      "outputs": [
        {
          "output_type": "stream",
          "text": [
            "WARNING:tensorflow:\n",
            "The TensorFlow contrib module will not be included in TensorFlow 2.0.\n",
            "For more information, please see:\n",
            "  * https://github.com/tensorflow/community/blob/master/rfcs/20180907-contrib-sunset.md\n",
            "  * https://github.com/tensorflow/addons\n",
            "  * https://github.com/tensorflow/io (for I/O related ops)\n",
            "If you depend on functionality not listed there, please file an issue.\n",
            "\n",
            "[0/8000]: loss_d : 4.985, loss_g : 0.011\n",
            "[1000/8000]: loss_d : 4.570, loss_g : 0.019\n",
            "[2000/8000]: loss_d : 0.398, loss_g : 2.792\n",
            "[3000/8000]: loss_d : 0.480, loss_g : 2.534\n",
            "[4000/8000]: loss_d : 1.268, loss_g : 2.197\n",
            "[5000/8000]: loss_d : 1.221, loss_g : 2.235\n",
            "[6000/8000]: loss_d : 1.030, loss_g : 2.376\n",
            "[7000/8000]: loss_d : 0.979, loss_g : 2.495\n"
          ],
          "name": "stdout"
        },
        {
          "output_type": "display_data",
          "data": {
            "image/png": "[encoded data removed]",
            "text/plain": [
              "<Figure size 432x288 with 1 Axes>"
            ]
          },
          "metadata": {
            "tags": [],
            "needs_background": "light"
          }
        }
      ]
    },
    {
      "cell_type": "code",
      "metadata": {
        "id": "bOjkwbgWZmHC",
        "colab_type": "code",
        "colab": {}
      },
      "source": [
        ""
      ],
      "execution_count": 0,
      "outputs": []
    }
  ]
}